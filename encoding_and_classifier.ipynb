{
 "cells": [
  {
   "cell_type": "markdown",
   "id": "36b6b545",
   "metadata": {},
   "source": [
    "# Task 2 Encoding and Classifier\n",
    "\n",
    "\n",
    "Encoding the following files in a quantum circuit mock_train_set.csv and mock_test_set.csv in at least two different ways (these could be basis, angle,  amplitude, kernel or random encoding).\n",
    "Design a variational quantum circuit for each of the encodings, uses the column 4  as the target,  this is a binary class 0 and 1.\n",
    "You must  use the data  from column0 to column3 for your proposed classifier. \n",
    "Consider the ansatz you are going to design as a layer and find out how many layers are necessary to reach the best performance.\n",
    "\n",
    "Analyze and discuss the results.\n",
    "\n",
    "Feel free to use existing frameworks (e.g. PennyLane, Qiskit) for creating and training the circuits.\n",
    "This PennyLane demo can be useful: Training a quantum circuit with Pytorch, \n",
    "This Quantum Tensorflow tutorial can be useful: Training a quantum circuit with Tensorflow.\n",
    "\n",
    "For the variational circuit, you can try any circuit you want. You can start from one with a layer of RX, RZ and CNOTs."
   ]
  },
  {
   "cell_type": "markdown",
   "id": "720c374b",
   "metadata": {},
   "source": [
    "# Imports "
   ]
  },
  {
   "cell_type": "code",
   "execution_count": 1,
   "id": "26768f08",
   "metadata": {},
   "outputs": [],
   "source": [
    "import pennylane as qml\n",
    "from pennylane import numpy as np\n",
    "import pennylane.optimize as optimize\n",
    "import csv\n",
    "import matplotlib.pyplot as plt"
   ]
  },
  {
   "cell_type": "markdown",
   "id": "7bc9fa46",
   "metadata": {},
   "source": [
    "# Data Pre-processing\n",
    "## Load Raw Data"
   ]
  },
  {
   "cell_type": "code",
   "execution_count": 2,
   "id": "affbeaa6",
   "metadata": {},
   "outputs": [
    {
     "name": "stdout",
     "output_type": "stream",
     "text": [
      "The size of the training dataset: (300, 4)\n",
      "The size of the test dataset: (120, 4)\n",
      "The size of the training label: (300,)\n",
      "The size of the test label: (120,)\n"
     ]
    }
   ],
   "source": [
    "def read_file(filename):\n",
    "    \"\"\"Read csv file\n",
    "    Args:\n",
    "      - filename (string): the file name\n",
    "    Returns:\n",
    "      - rows (list): a list of rows in the file\n",
    "    \"\"\"\n",
    "    rows = []\n",
    "    with open(filename, 'r') as csvfile:\n",
    "        # creating a csv reader object\n",
    "        csvreader = csv.reader(csvfile)\n",
    "\n",
    "        # extracting each data row one by one\n",
    "        for row in csvreader:\n",
    "            rows.append(row)\n",
    "    return rows\n",
    "\n",
    "train_dataset = np.array(read_file(\"mock_train_set.csv\"), dtype=float)\n",
    "test_dataset = np.array(read_file(\"mock_test_set.csv\"), dtype=float)\n",
    "\n",
    "train_X, train_Y = train_dataset[1:, 0:4], train_dataset[1:, 4].astype('int')\n",
    "test_X, test_Y = test_dataset[1:, 0:4], test_dataset[1:, 4].astype('int')\n",
    "\n",
    "# shift label from {0, 1} to {-1, 1}\n",
    "train_Y = train_Y * 2 - np.ones(len(train_Y))\n",
    "test_Y = test_Y * 2 - np.ones(len(test_Y))\n",
    "\n",
    "print(\"The size of the training dataset:\", train_X.shape)\n",
    "print(\"The size of the test dataset:\", test_X.shape)\n",
    "print(\"The size of the training label:\", train_Y.shape)\n",
    "print(\"The size of the test label:\", test_Y.shape)"
   ]
  },
  {
   "cell_type": "markdown",
   "id": "7449e809",
   "metadata": {},
   "source": [
    "As can be seen, the data size is not large, with 300 training data and 120 test data. In the later training, the training data will be further split into training data (75%) and validation data (25%)."
   ]
  },
  {
   "cell_type": "markdown",
   "id": "9e03d718",
   "metadata": {},
   "source": [
    "## Data Min-Max Normalization (Each Column)\n",
    "\n",
    "For the data attributes, the value ranges in each column is quite different. To aid the convergence of the training, the min-max normalization is applied for each column of the datasets."
   ]
  },
  {
   "cell_type": "code",
   "execution_count": 3,
   "id": "c2f05cac",
   "metadata": {},
   "outputs": [],
   "source": [
    "# normalize data for each column 1, 2, 3, 4\n",
    "def find_min_and_max(arr1, arr2):\n",
    "    \"\"\"Find max and min values for each column in datasets\n",
    "    Args:\n",
    "      - arr1, arr2: the datasets\n",
    "    Returns:\n",
    "      - arr_max, arr_min: arrays with max and min elements in each column, respectively\n",
    "    \"\"\"\n",
    "    arr1_max = np.max(arr1, axis=0)\n",
    "    arr2_max = np.max(arr2, axis=0)\n",
    "    arr_max = np.maximum(arr1_max, arr2_max)\n",
    "    \n",
    "    arr1_min = np.min(arr1, axis=0)\n",
    "    arr2_min = np.min(arr2, axis=0)\n",
    "    arr_min = np.minimum(arr1_min, arr2_min)\n",
    "    \n",
    "    return arr_max, arr_min   "
   ]
  },
  {
   "cell_type": "code",
   "execution_count": 4,
   "id": "5d3d45aa",
   "metadata": {},
   "outputs": [
    {
     "name": "stdout",
     "output_type": "stream",
     "text": [
      "The max for each column: [4.99561e+03 1.00000e+06 1.00000e+06 9.00000e+01]\n",
      "The min for each column: [31.71  1.    1.    1.  ]\n"
     ]
    }
   ],
   "source": [
    "X_max, X_min = find_min_and_max(train_X, test_X)\n",
    "print(\"The max for each column:\", X_max)\n",
    "print(\"The min for each column:\", X_min)"
   ]
  },
  {
   "cell_type": "code",
   "execution_count": 5,
   "id": "cd467e3d",
   "metadata": {},
   "outputs": [],
   "source": [
    "# min-max normalization \n",
    "for i in range(train_X.shape[1]):\n",
    "    train_X[:, i] = (train_X[:, i] - X_min[i]) / (X_max[i] - X_min[i])\n",
    "    test_X[:, i] = (test_X[:, i] - X_min[i]) / (X_max[i] - X_min[i])"
   ]
  },
  {
   "cell_type": "code",
   "execution_count": 6,
   "id": "3cb78140",
   "metadata": {},
   "outputs": [
    {
     "name": "stdout",
     "output_type": "stream",
     "text": [
      "First training X sample (min-max normalization):  [5.55520861e-01 9.99000999e-04 9.00000900e-06 2.13483146e-01]\n",
      "First test X sample (min-max normalization):  [0.59566873 0.00999901 0.00999901 0.83146067]\n"
     ]
    }
   ],
   "source": [
    "print(\"First training X sample (min-max normalization): \", train_X[0])\n",
    "print(\"First test X sample (min-max normalization): \", test_X[0])"
   ]
  },
  {
   "cell_type": "markdown",
   "id": "cf0d9c91",
   "metadata": {},
   "source": [
    "## Normalize to 1.0 (Each Row)"
   ]
  },
  {
   "cell_type": "code",
   "execution_count": 7,
   "id": "e0dfbfb4",
   "metadata": {
    "scrolled": true
   },
   "outputs": [
    {
     "name": "stdout",
     "output_type": "stream",
     "text": [
      "First training X sample (normalized): [9.33444874e-01 1.67862708e-03 1.51227665e-05 3.58716949e-01]\n",
      "First test X sample (normalized): [0.58232672 0.00977505 0.00977505 0.81283731]\n"
     ]
    }
   ],
   "source": [
    "# normazlie each input\n",
    "normalization_train, normalization_test = np.sqrt(np.sum(train_X ** 2, -1)), np.sqrt(np.sum(test_X ** 2, -1))\n",
    "train_X_norm, test_X_norm = (train_X.T / normalization_train).T, (test_X.T / normalization_test).T\n",
    "print(\"First training X sample (normalized):\", train_X_norm[0])\n",
    "print(\"First test X sample (normalized):\", test_X_norm[0])"
   ]
  },
  {
   "cell_type": "markdown",
   "id": "aa423930",
   "metadata": {},
   "source": [
    "# Quantum Classifier \n",
    "In this section, two state embedding methods are explored, they are amplitude embedding and angle embedding. Because the feature size is 4, for amplitude embedding, we only need 2 qubits, for angle embedding, we need 4 qubits.\n",
    "## 1. Classifier based on Amplitude Embedding\n",
    "### Quantum Circuit"
   ]
  },
  {
   "cell_type": "code",
   "execution_count": 8,
   "id": "b900df58",
   "metadata": {},
   "outputs": [],
   "source": [
    "def square_loss(labels, predictions):\n",
    "    \"\"\"Find square loss between labels and predictions\n",
    "    Args:\n",
    "      - labels: the sample labels\n",
    "      - predictions: the predicted labels\n",
    "    Returns:\n",
    "      - loss: square loss \n",
    "    \"\"\"\n",
    "    loss = 0\n",
    "    for l, p in zip(labels, predictions):\n",
    "        loss = loss + (l - p) ** 2\n",
    "\n",
    "    loss = loss / len(labels)\n",
    "    return loss\n",
    "\n",
    "def accuracy(labels, predictions):\n",
    "    \"\"\"Find prediction accuracy\n",
    "    Args:\n",
    "      - labels: the sample labels\n",
    "      - predictions: the predicted labels\n",
    "    Returns:\n",
    "      - accuracy: percentage of right prediction\n",
    "    \"\"\"\n",
    "    accuracy = 0\n",
    "    for l, p in zip(labels, predictions):\n",
    "        if abs(l - p) < 1e-5:\n",
    "            accuracy = accuracy + 1\n",
    "    accuracy = accuracy / len(labels)\n",
    "\n",
    "    return accuracy"
   ]
  },
  {
   "cell_type": "code",
   "execution_count": 9,
   "id": "b93db3ab",
   "metadata": {},
   "outputs": [],
   "source": [
    "def layer_amplitude_embedding(W):    \n",
    "    qml.Rot(W[0, 0], W[0, 1], W[0, 2], wires=0)\n",
    "    qml.Rot(W[1, 0], W[1, 1], W[1, 2], wires=1)\n",
    "    qml.CNOT(wires=[0, 1])\n",
    "\n",
    "dev_amplitude_embedding = qml.device(\"default.qubit\", wires=2)\n",
    "@qml.qnode(dev_amplitude_embedding)\n",
    "def circuit_amplitude_embedding(weights, feature):\n",
    "    \"\"\"A quantum circuit used as classifier\n",
    "    Args:\n",
    "      - weights: parameters for layers in the circuit\n",
    "      - feature: sample data\n",
    "    Returns:\n",
    "      - expectation value: expectation value of Pauli z operator\n",
    "    \"\"\"\n",
    "    qml.AmplitudeEmbedding(feature, wires=[0, 1], normalize=True)\n",
    "\n",
    "    for W in weights:\n",
    "        layer_amplitude_embedding(W)\n",
    "\n",
    "    return qml.expval(qml.PauliZ(0))\n",
    "\n",
    "def variational_classifier_amplitude_embedding(weights, bias, feature):\n",
    "    return circuit_amplitude_embedding(weights, feature) + bias\n",
    "\n",
    "def cost_amplitude_embedding(weights, bias, features, labels):\n",
    "    predictions = [variational_classifier_amplitude_embedding(weights, bias, f) for f in features]\n",
    "    return square_loss(labels, predictions)"
   ]
  },
  {
   "cell_type": "markdown",
   "id": "1a995e16",
   "metadata": {},
   "source": [
    "### Optimization "
   ]
  },
  {
   "cell_type": "code",
   "execution_count": 10,
   "id": "007a7d7d",
   "metadata": {},
   "outputs": [],
   "source": [
    "# partition training datasets to training and validation \n",
    "np.random.seed(0)\n",
    "num_data = len(train_Y)\n",
    "num_train = int(0.75 * num_data) # 75% dataset is used for training\n",
    "index = np.random.permutation(range(num_data))\n",
    "feats_train = train_X_norm[index[:num_train]]\n",
    "label_train = train_Y[index[:num_train]]\n",
    "feats_val = train_X_norm[index[num_train:]]\n",
    "label_val = train_Y[index[num_train:]]"
   ]
  },
  {
   "cell_type": "code",
   "execution_count": 11,
   "id": "f76a51b1",
   "metadata": {},
   "outputs": [
    {
     "name": "stdout",
     "output_type": "stream",
     "text": [
      "Convergence for number of layers is equal to : 1\n",
      "----------------------------------------------------------------------\n"
     ]
    },
    {
     "name": "stderr",
     "output_type": "stream",
     "text": [
      "C:\\Users\\12345\\Anaconda3\\envs\\hackq\\lib\\site-packages\\autograd\\numpy\\numpy_wrapper.py:156: ComplexWarning: Casting complex values to real discards the imaginary part\n",
      "  return A.astype(dtype, order, casting, subok, copy)\n"
     ]
    },
    {
     "name": "stdout",
     "output_type": "stream",
     "text": [
      "Iter:     1 | Cost: 1.2496464 | Acc train: 0.5600000 | Acc validation: 0.5600000 \n",
      "Iter:    11 | Cost: 1.2165535 | Acc train: 0.5600000 | Acc validation: 0.5600000 \n",
      "Iter:    21 | Cost: 1.2037583 | Acc train: 0.5955556 | Acc validation: 0.5600000 \n",
      "Iter:    31 | Cost: 1.2350238 | Acc train: 0.5866667 | Acc validation: 0.5466667 \n",
      "Iter:    41 | Cost: 1.0280630 | Acc train: 0.6222222 | Acc validation: 0.6000000 \n",
      "Iter:    51 | Cost: 0.8945497 | Acc train: 0.6755556 | Acc validation: 0.6400000 \n",
      "Test accuracy: 0.8583333333333333\n",
      "Convergence for number of layers is equal to : 3\n",
      "----------------------------------------------------------------------\n",
      "Iter:     1 | Cost: 1.2523830 | Acc train: 0.5600000 | Acc validation: 0.5600000 \n",
      "Iter:    11 | Cost: 1.2246969 | Acc train: 0.5644444 | Acc validation: 0.5600000 \n",
      "Iter:    21 | Cost: 1.1035576 | Acc train: 0.6133333 | Acc validation: 0.6133333 \n",
      "Iter:    31 | Cost: 0.9144311 | Acc train: 0.6711111 | Acc validation: 0.6533333 \n",
      "Iter:    41 | Cost: 0.8051973 | Acc train: 0.7111111 | Acc validation: 0.7866667 \n",
      "Iter:    51 | Cost: 0.8111001 | Acc train: 0.6933333 | Acc validation: 0.7866667 \n",
      "Test accuracy: 0.8416666666666667\n",
      "Convergence for number of layers is equal to : 6\n",
      "----------------------------------------------------------------------\n",
      "Iter:     1 | Cost: 1.2504605 | Acc train: 0.5555556 | Acc validation: 0.5600000 \n",
      "Iter:    11 | Cost: 1.1232167 | Acc train: 0.5955556 | Acc validation: 0.5866667 \n",
      "Iter:    21 | Cost: 0.9703915 | Acc train: 0.6177778 | Acc validation: 0.6133333 \n",
      "Iter:    31 | Cost: 0.8705543 | Acc train: 0.7111111 | Acc validation: 0.8000000 \n",
      "Iter:    41 | Cost: 0.7968246 | Acc train: 0.7111111 | Acc validation: 0.7866667 \n",
      "Iter:    51 | Cost: 0.8123826 | Acc train: 0.7022222 | Acc validation: 0.7733333 \n",
      "Test accuracy: 0.8583333333333333\n",
      "Convergence for number of layers is equal to : 8\n",
      "----------------------------------------------------------------------\n",
      "Iter:     1 | Cost: 1.2333031 | Acc train: 0.5511111 | Acc validation: 0.5600000 \n",
      "Iter:    11 | Cost: 1.1744057 | Acc train: 0.5911111 | Acc validation: 0.5600000 \n",
      "Iter:    21 | Cost: 1.0329149 | Acc train: 0.5911111 | Acc validation: 0.5466667 \n",
      "Iter:    31 | Cost: 1.0246228 | Acc train: 0.6400000 | Acc validation: 0.6266667 \n",
      "Iter:    41 | Cost: 0.9900618 | Acc train: 0.6533333 | Acc validation: 0.6400000 \n",
      "Iter:    51 | Cost: 0.8238433 | Acc train: 0.6711111 | Acc validation: 0.7733333 \n",
      "Test accuracy: 0.825\n",
      "Convergence for number of layers is equal to : 10\n",
      "----------------------------------------------------------------------\n",
      "Iter:     1 | Cost: 1.2485481 | Acc train: 0.5600000 | Acc validation: 0.5600000 \n",
      "Iter:    11 | Cost: 0.9567789 | Acc train: 0.6355556 | Acc validation: 0.6000000 \n",
      "Iter:    21 | Cost: 0.9013869 | Acc train: 0.6666667 | Acc validation: 0.6933333 \n",
      "Iter:    31 | Cost: 0.8338361 | Acc train: 0.6755556 | Acc validation: 0.6533333 \n",
      "Iter:    41 | Cost: 0.8149636 | Acc train: 0.7022222 | Acc validation: 0.6400000 \n",
      "Iter:    51 | Cost: 0.8679987 | Acc train: 0.6533333 | Acc validation: 0.6400000 \n",
      "Test accuracy: 0.75\n"
     ]
    }
   ],
   "source": [
    "batch_size = 5\n",
    "num_qubits = 2 # 2 qubits are needed for quantum circuit based on amplitude embedding\n",
    "num_layers = [1, 3, 6, 8, 10]\n",
    "accuracy_amplitude_embedding = []\n",
    "\n",
    "for i in range(len(num_layers)):\n",
    "    opt = optimize.NesterovMomentumOptimizer(0.01)\n",
    "    print(\"Convergence for number of layers is equal to : {}\".format(num_layers[i]))\n",
    "    print(\"----------------------------------------------------------------------\")\n",
    "    # train the variational classifier      \n",
    "    weights = 0.01 * np.random.randn(num_layers[i], num_qubits, 3, requires_grad=True)\n",
    "    bias =  np.array(0.0, requires_grad=True)\n",
    "    for it in range(60):\n",
    "        # Update the weights by one optimizer step\n",
    "        batch_index = np.random.randint(0, num_train, (batch_size,))\n",
    "        feats_train_batch = feats_train[batch_index]\n",
    "        label_train_batch = label_train[batch_index]\n",
    "        weights, bias, _, _ = opt.step(cost_amplitude_embedding, weights, bias, feats_train_batch, label_train_batch)\n",
    "\n",
    "        # Compute predictions on train and validation set\n",
    "        predictions_train = [np.sign(variational_classifier_amplitude_embedding(weights, bias, f)) for f in feats_train]\n",
    "        predictions_val = [np.sign(variational_classifier_amplitude_embedding(weights, bias, f)) for f in feats_val]\n",
    "\n",
    "        # Compute accuracy on train and validation set\n",
    "        acc_train = accuracy(label_train, predictions_train)\n",
    "        acc_val = accuracy(label_val, predictions_val)\n",
    "        \n",
    "        if it%10 == 0:\n",
    "            print(\n",
    "                \"Iter: {:5d} | Cost: {:0.7f} | Acc train: {:0.7f} | Acc validation: {:0.7f} \"\n",
    "                \"\".format(it + 1, cost_amplitude_embedding(weights, bias, train_X_norm, train_Y), acc_train, acc_val)\n",
    "            )\n",
    "    # check test accuracy\n",
    "    predictions_test = [np.sign(variational_classifier_amplitude_embedding(weights, bias, f)) for f in test_X_norm]\n",
    "    acc_test = accuracy(test_Y, predictions_test)\n",
    "    print(\"Test accuracy:\", acc_test)\n",
    "    accuracy_amplitude_embedding.append(acc_test)"
   ]
  },
  {
   "cell_type": "markdown",
   "id": "ef23575d",
   "metadata": {},
   "source": [
    "## 2. Classifier based on Angle Embedding\n",
    "### Quantum Circuit"
   ]
  },
  {
   "cell_type": "code",
   "execution_count": 12,
   "id": "d09d7ae1",
   "metadata": {},
   "outputs": [],
   "source": [
    "def layer_angle_embedding(W):\n",
    "    qml.Rot(W[0, 0], W[0, 1], W[0, 2], wires=0)\n",
    "    qml.Rot(W[1, 0], W[1, 1], W[1, 2], wires=1)\n",
    "    qml.Rot(W[2, 0], W[2, 1], W[2, 2], wires=2)\n",
    "    qml.Rot(W[3, 0], W[3, 1], W[3, 2], wires=3)\n",
    "\n",
    "    qml.CNOT(wires=[0, 1])\n",
    "    qml.CNOT(wires=[1, 2])\n",
    "    qml.CNOT(wires=[2, 3])\n",
    "    qml.CNOT(wires=[3, 0]) \n",
    "    \n",
    "dev_angle_embedding = qml.device(\"default.qubit\", wires=4)\n",
    "@qml.qnode(dev_angle_embedding)\n",
    "def circuit_angle_embedding(weights, angles):\n",
    "    \"\"\"A quantum circuit used as classifier\n",
    "    Args:\n",
    "      - weights: parameters for layers in the circuit\n",
    "      - feature: sample data\n",
    "    Returns:\n",
    "      - expectation value: expectation value of Pauli z operator\n",
    "    \"\"\"\n",
    "    qml.AngleEmbedding(angles, wires=range(4), rotation='Z')\n",
    "\n",
    "    for W in weights:\n",
    "        layer_angle_embedding(W)\n",
    "\n",
    "    return qml.expval(qml.PauliZ(0))\n",
    "\n",
    "def variational_classifier_angle_embedding(weights, bias, angles):\n",
    "    return circuit_angle_embedding(weights, angles) + bias\n",
    "\n",
    "def cost_angle_embedding(weights, bias, features, labels):\n",
    "    predictions = [variational_classifier_angle_embedding(weights, bias, f) for f in features]\n",
    "    return square_loss(labels, predictions)"
   ]
  },
  {
   "cell_type": "markdown",
   "id": "97fd87cf",
   "metadata": {},
   "source": [
    "### Optimization "
   ]
  },
  {
   "cell_type": "code",
   "execution_count": 13,
   "id": "d353c477",
   "metadata": {},
   "outputs": [
    {
     "name": "stdout",
     "output_type": "stream",
     "text": [
      "Convergence for number of layers is equal to : 1\n",
      "----------------------------------------------------------------------\n",
      "Iter:     1 | Cost: 2.0434767 | Acc train: 0.4888889 | Acc validation: 0.4400000 \n",
      "Iter:    11 | Cost: 1.0767405 | Acc train: 0.4888889 | Acc validation: 0.4400000 \n",
      "Iter:    21 | Cost: 1.0164683 | Acc train: 0.5111111 | Acc validation: 0.5600000 \n",
      "Iter:    31 | Cost: 0.9984465 | Acc train: 0.5111111 | Acc validation: 0.5600000 \n",
      "Iter:    41 | Cost: 1.0059378 | Acc train: 0.4888889 | Acc validation: 0.4400000 \n",
      "Iter:    51 | Cost: 1.0011451 | Acc train: 0.4888889 | Acc validation: 0.4400000 \n",
      "Test accuracy: 0.5166666666666667\n",
      "Convergence for number of layers is equal to : 3\n",
      "----------------------------------------------------------------------\n",
      "Iter:     1 | Cost: 2.0593690 | Acc train: 0.4888889 | Acc validation: 0.4400000 \n",
      "Iter:    11 | Cost: 1.1890292 | Acc train: 0.4888889 | Acc validation: 0.4400000 \n",
      "Iter:    21 | Cost: 1.0129898 | Acc train: 0.5111111 | Acc validation: 0.5600000 \n",
      "Iter:    31 | Cost: 1.0098052 | Acc train: 0.5111111 | Acc validation: 0.5600000 \n",
      "Iter:    41 | Cost: 0.9982166 | Acc train: 0.5111111 | Acc validation: 0.5600000 \n",
      "Iter:    51 | Cost: 1.0164102 | Acc train: 0.4888889 | Acc validation: 0.4400000 \n",
      "Test accuracy: 0.48333333333333334\n",
      "Convergence for number of layers is equal to : 6\n",
      "----------------------------------------------------------------------\n",
      "Iter:     1 | Cost: 2.0570639 | Acc train: 0.4888889 | Acc validation: 0.4400000 \n",
      "Iter:    11 | Cost: 1.2466279 | Acc train: 0.4888889 | Acc validation: 0.4400000 \n",
      "Iter:    21 | Cost: 1.0075307 | Acc train: 0.5111111 | Acc validation: 0.5600000 \n",
      "Iter:    31 | Cost: 1.0313112 | Acc train: 0.5111111 | Acc validation: 0.5600000 \n",
      "Iter:    41 | Cost: 1.0046183 | Acc train: 0.4888889 | Acc validation: 0.4400000 \n",
      "Iter:    51 | Cost: 1.0076369 | Acc train: 0.4888889 | Acc validation: 0.4400000 \n",
      "Test accuracy: 0.5166666666666667\n",
      "Convergence for number of layers is equal to : 8\n",
      "----------------------------------------------------------------------\n",
      "Iter:     1 | Cost: 2.0581763 | Acc train: 0.4888889 | Acc validation: 0.4400000 \n",
      "Iter:    11 | Cost: 1.0321378 | Acc train: 0.4888889 | Acc validation: 0.4400000 \n",
      "Iter:    21 | Cost: 1.0713671 | Acc train: 0.5111111 | Acc validation: 0.5600000 \n",
      "Iter:    31 | Cost: 1.1293013 | Acc train: 0.5111111 | Acc validation: 0.5600000 \n",
      "Iter:    41 | Cost: 0.9994563 | Acc train: 0.5111111 | Acc validation: 0.5600000 \n",
      "Iter:    51 | Cost: 1.0308751 | Acc train: 0.4888889 | Acc validation: 0.4400000 \n",
      "Test accuracy: 0.5166666666666667\n",
      "Convergence for number of layers is equal to : 10\n",
      "----------------------------------------------------------------------\n",
      "Iter:     1 | Cost: 2.0269932 | Acc train: 0.4888889 | Acc validation: 0.4400000 \n",
      "Iter:    11 | Cost: 1.0145389 | Acc train: 0.4888889 | Acc validation: 0.4400000 \n",
      "Iter:    21 | Cost: 1.0771899 | Acc train: 0.5111111 | Acc validation: 0.5600000 \n",
      "Iter:    31 | Cost: 1.0286366 | Acc train: 0.4888889 | Acc validation: 0.4400000 \n",
      "Iter:    41 | Cost: 1.0216942 | Acc train: 0.4888889 | Acc validation: 0.4400000 \n",
      "Iter:    51 | Cost: 0.9978369 | Acc train: 0.5111111 | Acc validation: 0.5600000 \n",
      "Test accuracy: 0.48333333333333334\n"
     ]
    }
   ],
   "source": [
    "batch_size = 5\n",
    "num_qubits = 4 # 4 qubits are needed for quantum circuit based on angle embedding\n",
    "num_layers = [1, 3, 6, 8, 10]\n",
    "accuracy_angle_embedding = []\n",
    "\n",
    "for i in range(len(num_layers)):\n",
    "    opt = optimize.NesterovMomentumOptimizer(0.01)\n",
    "    print(\"Convergence for number of layers is equal to : {}\".format(num_layers[i]))\n",
    "    print(\"----------------------------------------------------------------------\")\n",
    "    # train the variational classifier\n",
    "    weights = 0.01 * np.random.randn(num_layers[i], num_qubits, 3, requires_grad=True)\n",
    "    bias = np.array(0.0, requires_grad=True)\n",
    "    for it in range(60):\n",
    "        # Update the weights by one optimizer step\n",
    "        batch_index = np.random.randint(0, num_train, (batch_size,))\n",
    "        feats_train_batch = feats_train[batch_index]\n",
    "        label_train_batch = label_train[batch_index]\n",
    "        weights, bias, _, _ = opt.step(cost_angle_embedding, weights, bias, feats_train_batch, label_train_batch)\n",
    "\n",
    "        # Compute predictions on train and validation set\n",
    "        predictions_train = [np.sign(variational_classifier_angle_embedding(weights, bias, f)) for f in feats_train]\n",
    "        predictions_val = [np.sign(variational_classifier_angle_embedding(weights, bias, f)) for f in feats_val]\n",
    "\n",
    "        # Compute accuracy on train and validation set\n",
    "        acc_train = accuracy(label_train, predictions_train)\n",
    "        acc_val = accuracy(label_val, predictions_val)\n",
    "        \n",
    "        if it%10 == 0:\n",
    "            print(\n",
    "                \"Iter: {:5d} | Cost: {:0.7f} | Acc train: {:0.7f} | Acc validation: {:0.7f} \"\n",
    "                \"\".format(it + 1, cost_angle_embedding(weights, bias, train_X_norm, train_Y), acc_train, acc_val)\n",
    "            )\n",
    "    # check test accuracy\n",
    "    predictions_test = [np.sign(variational_classifier_angle_embedding(weights, bias, f)) for f in test_X_norm]\n",
    "    acc_test = accuracy(test_Y, predictions_test)\n",
    "    print(\"Test accuracy:\", acc_test)\n",
    "    accuracy_angle_embedding.append(acc_test)"
   ]
  },
  {
   "cell_type": "markdown",
   "id": "fdfb4805",
   "metadata": {},
   "source": [
    "# Results and Analysis\n",
    "\n",
    "Based on the results with current hyperparameters used in the training, amplitude embedding performs much better than angle embedding. While the best accuracy achieved by amplitude embedding can reach 85.8% with 1 and 6 layers of ansatz, angle embedding can only reach 51.6% accuracy with 1, 6, and 8 layers of anstaz. In addition, the impact of the number of ansatz is not apparent according to the limited sample data presented in the current analysis. By its current state, as indicated in the results, 6 layers of ansatz turns to be the best. "
   ]
  },
  {
   "cell_type": "code",
   "execution_count": 15,
   "id": "c01cd7f4",
   "metadata": {},
   "outputs": [
    {
     "data": {
      "image/png": "[encoded data removed]",
      "text/plain": [
       "<Figure size 576x396 with 1 Axes>"
      ]
     },
     "metadata": {},
     "output_type": "display_data"
    }
   ],
   "source": [
    "from matplotlib import pyplot as plt\n",
    "\n",
    "plt.style.use(\"seaborn\")\n",
    "plt.plot(num_layers, accuracy_amplitude_embedding, \"b\", label=\"Amplitude Embedding\")\n",
    "plt.plot(num_layers, accuracy_angle_embedding, \"g\", label=\"Angle Embedding\")\n",
    "\n",
    "plt.ylabel(\"Accuracy on Test Data\")\n",
    "plt.xlabel(\"Number of Layers\")\n",
    "plt.legend()\n",
    "plt.show()"
   ]
  },
  {
   "cell_type": "code",
   "execution_count": null,
   "id": "64db3008",
   "metadata": {},
   "outputs": [],
   "source": []
  }
 ],
 "metadata": {
  "kernelspec": {
   "display_name": "Python 3 (ipykernel)",
   "language": "python",
   "name": "python3"
  },
  "language_info": {
   "codemirror_mode": {
    "name": "ipython",
    "version": 3
   },
   "file_extension": ".py",
   "mimetype": "text/x-python",
   "name": "python",
   "nbconvert_exporter": "python",
   "pygments_lexer": "ipython3",
   "version": "3.9.7"
  }
 },
 "nbformat": 4,
 "nbformat_minor": 5
}
